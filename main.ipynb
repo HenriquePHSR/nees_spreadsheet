{
 "metadata": {
  "language_info": {
   "codemirror_mode": {
    "name": "ipython",
    "version": 3
   },
   "file_extension": ".py",
   "mimetype": "text/x-python",
   "name": "python",
   "nbconvert_exporter": "python",
   "pygments_lexer": "ipython3",
   "version": "3.8.5-final"
  },
  "orig_nbformat": 2,
  "kernelspec": {
   "name": "python38564bit9b43fea4c6874d0a93aaa28fbb7db097",
   "display_name": "Python 3.8.5 64-bit",
   "language": "python"
  }
 },
 "nbformat": 4,
 "nbformat_minor": 2,
 "cells": [
  {
   "cell_type": "code",
   "execution_count": 19,
   "metadata": {},
   "outputs": [
    {
     "output_type": "execute_result",
     "data": {
      "text/plain": [
       "'re.search(r\"(^[a-zA-Z0-9_.+-]+@[a-zA-Z0-9-]+\\\\.[a-zA-Z0-9-.]+$)\", email)'"
      ]
     },
     "metadata": {},
     "execution_count": 19
    }
   ],
   "source": [
    "import os\n",
    "import pandas as pd\n",
    "import re\n",
    "import openpyxl\n",
    "import numpy as np\n",
    "\n",
    "'''re.search(r\"(^[a-zA-Z0-9_.+-]+@[a-zA-Z0-9-]+\\.[a-zA-Z0-9-.]+$)\", email)'''"
   ]
  },
  {
   "cell_type": "code",
   "execution_count": null,
   "metadata": {},
   "outputs": [],
   "source": [
    "import win32com.client as win32\n",
    "fname = \"full+path+to+xls_file\"\n",
    "excel = win32.gencache.EnsureDispatch('Excel.Application')\n",
    "wb = excel.Workbooks.Open(fname)\n",
    "\n",
    "wb.SaveAs(fname+\"x\", FileFormat = 51)    #FileFormat = 51 is for .xlsx extension\n",
    "wb.Close()                               #FileFormat = 56 is for .xls extension\n",
    "excel.Application.Quit()"
   ]
  },
  {
   "cell_type": "code",
   "execution_count": 4,
   "metadata": {},
   "outputs": [],
   "source": [
    "def validate(cpf: str) -> bool:\n",
    "\n",
    "    \"\"\" Efetua a validação do CPF, tanto formatação quando dígito verificadores.\n",
    "\n",
    "    Parâmetros:\n",
    "        cpf (str): CPF a ser validado\n",
    "\n",
    "    Retorno:\n",
    "        bool:\n",
    "            - Falso, quando o CPF não possuir 11 caracteres numéricos;\n",
    "            - Falso, quando os dígitos verificadores forem inválidos;\n",
    "            - Verdadeiro, caso contrário.\n",
    "\n",
    "    Exemplos:\n",
    "\n",
    "    >>> validate('529.982.247-25')\n",
    "    True\n",
    "    >>> validate('52998224725')\n",
    "    False\n",
    "    >>> validate('111.111.111-11')\n",
    "    False\n",
    "    \"\"\"\n",
    "\n",
    "\n",
    "    # Obtém apenas os números do CPF, ignorando pontuações\n",
    "    numbers = [int(digit) for digit in cpf if digit.isdigit()]\n",
    "\n",
    "    # Verifica se o CPF possui 11 números ou se todos são iguais:\n",
    "    if len(numbers) != 11 or len(set(numbers)) == 1:\n",
    "        return False\n",
    "\n",
    "    # Validação do primeiro dígito verificador:\n",
    "    sum_of_products = sum(a*b for a, b in zip(numbers[0:9], range(10, 1, -1)))\n",
    "    expected_digit = (sum_of_products * 10 % 11) % 10\n",
    "    if numbers[9] != expected_digit:\n",
    "        return False\n",
    "\n",
    "    # Validação do segundo dígito verificador:\n",
    "    sum_of_products = sum(a*b for a, b in zip(numbers[0:10], range(11, 1, -1)))\n",
    "    expected_digit = (sum_of_products * 10 % 11) % 10\n",
    "    if numbers[10] != expected_digit:\n",
    "        return False\n",
    "\n",
    "    return True\n",
    "\n",
    "def autocomplete(str, lenght, char, mode):\n",
    "    while(len(str) < lenght):\n",
    "        if mode == 'left':\n",
    "            str = char + str\n",
    "        if mode == 'right':\n",
    "            str = str + char\n",
    "    return str"
   ]
  },
  {
   "cell_type": "code",
   "execution_count": 5,
   "metadata": {},
   "outputs": [
    {
     "output_type": "stream",
     "name": "stdout",
     "text": [
      "00000001123\n"
     ]
    }
   ],
   "source": [
    "print(autocomplete('1123', 11, '0', 'left'))"
   ]
  },
  {
   "cell_type": "code",
   "execution_count": 20,
   "metadata": {},
   "outputs": [],
   "source": [
    "df_samples_2= pd.read_csv('Certificados NEES - 100 DIAS 100 CUSTOS (1).csv', delimiter=';')\n",
    "df_samples_2.head(3)"
   ]
  },
  {
   "cell_type": "code",
   "execution_count": 21,
   "metadata": {},
   "outputs": [
    {
     "output_type": "execute_result",
     "data": {
      "text/plain": [
       "                   E-mail         Turma              Nome do curso  \\\n",
       "0  gustavoabreu@id.uff.br  ABCMF2020.01  ABC do Mercado Financeiro   \n",
       "1   silva989898@gmail.com  ABCMF2020.01  ABC do Mercado Financeiro   \n",
       "2     aniviivina@live.com  ABCMF2020.01  ABC do Mercado Financeiro   \n",
       "\n",
       "           CPF           Nome         Período do curso  \n",
       "0  16258077757  Gustavo Abreu  30/03/2020 a 29/04/2020  \n",
       "1  15753316751  Bruno Almeida  30/03/2020 a 29/04/2020  \n",
       "2  14200281708  Ivina Barbosa  30/03/2020 a 29/04/2020  "
      ],
      "text/html": "<div>\n<style scoped>\n    .dataframe tbody tr th:only-of-type {\n        vertical-align: middle;\n    }\n\n    .dataframe tbody tr th {\n        vertical-align: top;\n    }\n\n    .dataframe thead th {\n        text-align: right;\n    }\n</style>\n<table border=\"1\" class=\"dataframe\">\n  <thead>\n    <tr style=\"text-align: right;\">\n      <th></th>\n      <th>E-mail</th>\n      <th>Turma</th>\n      <th>Nome do curso</th>\n      <th>CPF</th>\n      <th>Nome</th>\n      <th>Período do curso</th>\n    </tr>\n  </thead>\n  <tbody>\n    <tr>\n      <th>0</th>\n      <td>gustavoabreu@id.uff.br</td>\n      <td>ABCMF2020.01</td>\n      <td>ABC do Mercado Financeiro</td>\n      <td>16258077757</td>\n      <td>Gustavo Abreu</td>\n      <td>30/03/2020 a 29/04/2020</td>\n    </tr>\n    <tr>\n      <th>1</th>\n      <td>silva989898@gmail.com</td>\n      <td>ABCMF2020.01</td>\n      <td>ABC do Mercado Financeiro</td>\n      <td>15753316751</td>\n      <td>Bruno Almeida</td>\n      <td>30/03/2020 a 29/04/2020</td>\n    </tr>\n    <tr>\n      <th>2</th>\n      <td>aniviivina@live.com</td>\n      <td>ABCMF2020.01</td>\n      <td>ABC do Mercado Financeiro</td>\n      <td>14200281708</td>\n      <td>Ivina Barbosa</td>\n      <td>30/03/2020 a 29/04/2020</td>\n    </tr>\n  </tbody>\n</table>\n</div>"
     },
     "metadata": {},
     "execution_count": 21
    }
   ],
   "source": []
  },
  {
   "cell_type": "code",
   "execution_count": 23,
   "metadata": {},
   "outputs": [
    {
     "output_type": "execute_result",
     "data": {
      "text/plain": [
       "['08208366994', '39370361804', '39370361804']"
      ]
     },
     "metadata": {},
     "execution_count": 23
    }
   ],
   "source": [
    "\n",
    "test = [autocomplete(str(x), 11, '0', 'left') for x in df_samples['CPF'].values]\n",
    "test"
   ]
  },
  {
   "cell_type": "code",
   "execution_count": 24,
   "metadata": {},
   "outputs": [
    {
     "output_type": "execute_result",
     "data": {
      "text/plain": [
       "True"
      ]
     },
     "metadata": {},
     "execution_count": 24
    }
   ],
   "source": [
    "validate('13720271730')"
   ]
  },
  {
   "source": [
    "df_samples = pd.read_excel('Alunos_concluintes_convert.xlsx')\n",
    "df_samples.head()"
   ],
   "cell_type": "code",
   "metadata": {},
   "execution_count": 45,
   "outputs": [
    {
     "output_type": "execute_result",
     "data": {
      "text/plain": [
       "   #          CPF                                  Aluno  \\\n",
       "0  1   8208366994  ELISSIANE APARECIDA CAMPOS DOS SANTOS   \n",
       "1  2  39370361804                 HELOISA DE FRANCA DIAS   \n",
       "2  3  39370361804                 HELOISA DE FRANCA DIAS   \n",
       "\n",
       "                      E-mail               Curso Data da Prova  Nota  \n",
       "0  camposelissiane@gmail.com    Empreendedorismo    29/07/2020     6  \n",
       "1       negraluiza@gmail.com      Associativismo    25/10/2020     8  \n",
       "2       negraluiza@gmail.com  Custos de Produção    08/11/2020     9  "
      ],
      "text/html": "<div>\n<style scoped>\n    .dataframe tbody tr th:only-of-type {\n        vertical-align: middle;\n    }\n\n    .dataframe tbody tr th {\n        vertical-align: top;\n    }\n\n    .dataframe thead th {\n        text-align: right;\n    }\n</style>\n<table border=\"1\" class=\"dataframe\">\n  <thead>\n    <tr style=\"text-align: right;\">\n      <th></th>\n      <th>#</th>\n      <th>CPF</th>\n      <th>Aluno</th>\n      <th>E-mail</th>\n      <th>Curso</th>\n      <th>Data da Prova</th>\n      <th>Nota</th>\n    </tr>\n  </thead>\n  <tbody>\n    <tr>\n      <th>0</th>\n      <td>1</td>\n      <td>8208366994</td>\n      <td>ELISSIANE APARECIDA CAMPOS DOS SANTOS</td>\n      <td>camposelissiane@gmail.com</td>\n      <td>Empreendedorismo</td>\n      <td>29/07/2020</td>\n      <td>6</td>\n    </tr>\n    <tr>\n      <th>1</th>\n      <td>2</td>\n      <td>39370361804</td>\n      <td>HELOISA DE FRANCA DIAS</td>\n      <td>negraluiza@gmail.com</td>\n      <td>Associativismo</td>\n      <td>25/10/2020</td>\n      <td>8</td>\n    </tr>\n    <tr>\n      <th>2</th>\n      <td>3</td>\n      <td>39370361804</td>\n      <td>HELOISA DE FRANCA DIAS</td>\n      <td>negraluiza@gmail.com</td>\n      <td>Custos de Produção</td>\n      <td>08/11/2020</td>\n      <td>9</td>\n    </tr>\n  </tbody>\n</table>\n</div>"
     },
     "metadata": {},
     "execution_count": 45
    }
   ]
  },
  {
   "cell_type": "code",
   "execution_count": 46,
   "metadata": {},
   "outputs": [
    {
     "output_type": "execute_result",
     "data": {
      "text/plain": [
       "dtype('int64')"
      ]
     },
     "metadata": {},
     "execution_count": 46
    }
   ],
   "source": [
    "df_samples.loc[0,'CPF'].dtype"
   ]
  },
  {
   "cell_type": "code",
   "execution_count": 47,
   "metadata": {},
   "outputs": [],
   "source": [
    "if df_samples['CPF'].dtype == str:\n",
    "    print('test')"
   ]
  },
  {
   "cell_type": "code",
   "execution_count": 50,
   "metadata": {},
   "outputs": [
    {
     "output_type": "execute_result",
     "data": {
      "text/plain": [
       "#                 int64\n",
       "CPF              string\n",
       "Aluno            string\n",
       "E-mail           string\n",
       "Curso            string\n",
       "Data da Prova    object\n",
       "Nota              int64\n",
       "dtype: object"
      ]
     },
     "metadata": {},
     "execution_count": 50
    }
   ],
   "source": [
    "df_samples.dtypes"
   ]
  },
  {
   "cell_type": "code",
   "execution_count": 49,
   "metadata": {},
   "outputs": [
    {
     "output_type": "execute_result",
     "data": {
      "text/plain": [
       "\"\\ndf_samples['Data da Prova'] = [str(x).replace('/','-') for x in  df_samples['Data da Prova'].values]\\n\\ndf_samples['Data da Prova'] = [pd.to_datetime(x, format='%d%m%Y', errors='ignore') for x in  df_samples['Data da Prova'].values]\\n\""
      ]
     },
     "metadata": {},
     "execution_count": 49
    }
   ],
   "source": [
    "''' AUTOCOMPLETE CPF  AND FORMAT'''\n",
    "df_samples['CPF'] = [autocomplete(str(x), 11, '0', 'left') for x in df_samples['CPF'].values]\n",
    "df_samples['CPF'] = pd.Series(df_samples['CPF'], dtype=\"string\")\n",
    "df_samples['Aluno'] = pd.Series(df_samples['Aluno'], dtype=\"string\")\n",
    "df_samples['E-mail'] = pd.Series(df_samples['E-mail'], dtype=\"string\")\n",
    "df_samples['Curso'] = pd.Series(df_samples['Curso'], dtype=\"string\")\n",
    "\n",
    "#df_samples = df_samples[df_samples['Data da Prova'].apply(lambda x: pd.to_datetime(x, format='%d%m%Y', errors='ignore'))]\n",
    "\n",
    "'''\n",
    "df_samples['Data da Prova'] = [str(x).replace('/','-') for x in  df_samples['Data da Prova'].values]\n",
    "\n",
    "df_samples['Data da Prova'] = [pd.to_datetime(x, format='%d%m%Y', errors='ignore') for x in  df_samples['Data da Prova'].values]\n",
    "'''"
   ]
  },
  {
   "cell_type": "code",
   "execution_count": 40,
   "metadata": {},
   "outputs": [
    {
     "output_type": "execute_result",
     "data": {
      "text/plain": [
       "#                 int64\n",
       "CPF              string\n",
       "Aluno            string\n",
       "E-mail           string\n",
       "Curso            string\n",
       "Data da Prova    object\n",
       "Nota              int64\n",
       "dtype: object"
      ]
     },
     "metadata": {},
     "execution_count": 40
    }
   ],
   "source": [
    "df_samples.dtypes"
   ]
  },
  {
   "cell_type": "code",
   "execution_count": 101,
   "metadata": {},
   "outputs": [
    {
     "output_type": "execute_result",
     "data": {
      "text/plain": [
       "   #          CPF                                  Aluno  \\\n",
       "0  1  08208366994  ELISSIANE APARECIDA CAMPOS DOS SANTOS   \n",
       "1  2  39370361804                 HELOISA DE FRANCA DIAS   \n",
       "2  3  39370361804                 HELOISA DE FRANCA DIAS   \n",
       "\n",
       "                      E-mail               Curso Data da Prova  Nota  \n",
       "0  camposelissiane@gmail.com    Empreendedorismo    29/07/2020     6  \n",
       "1       negraluiza@gmail.com      Associativismo    25/10/2020     8  \n",
       "2       negraluiza@gmail.com  Custos de Produção    08/11/2020     9  "
      ],
      "text/html": "<div>\n<style scoped>\n    .dataframe tbody tr th:only-of-type {\n        vertical-align: middle;\n    }\n\n    .dataframe tbody tr th {\n        vertical-align: top;\n    }\n\n    .dataframe thead th {\n        text-align: right;\n    }\n</style>\n<table border=\"1\" class=\"dataframe\">\n  <thead>\n    <tr style=\"text-align: right;\">\n      <th></th>\n      <th>#</th>\n      <th>CPF</th>\n      <th>Aluno</th>\n      <th>E-mail</th>\n      <th>Curso</th>\n      <th>Data da Prova</th>\n      <th>Nota</th>\n    </tr>\n  </thead>\n  <tbody>\n    <tr>\n      <th>0</th>\n      <td>1</td>\n      <td>08208366994</td>\n      <td>ELISSIANE APARECIDA CAMPOS DOS SANTOS</td>\n      <td>camposelissiane@gmail.com</td>\n      <td>Empreendedorismo</td>\n      <td>29/07/2020</td>\n      <td>6</td>\n    </tr>\n    <tr>\n      <th>1</th>\n      <td>2</td>\n      <td>39370361804</td>\n      <td>HELOISA DE FRANCA DIAS</td>\n      <td>negraluiza@gmail.com</td>\n      <td>Associativismo</td>\n      <td>25/10/2020</td>\n      <td>8</td>\n    </tr>\n    <tr>\n      <th>2</th>\n      <td>3</td>\n      <td>39370361804</td>\n      <td>HELOISA DE FRANCA DIAS</td>\n      <td>negraluiza@gmail.com</td>\n      <td>Custos de Produção</td>\n      <td>08/11/2020</td>\n      <td>9</td>\n    </tr>\n  </tbody>\n</table>\n</div>"
     },
     "metadata": {},
     "execution_count": 101
    }
   ],
   "source": [
    "''' VALIDATE CPF '''\n",
    "df_samples[df_samples['CPF'].apply(lambda x: validate(str(x)))]\n"
   ]
  },
  {
   "cell_type": "code",
   "execution_count": null,
   "metadata": {},
   "outputs": [],
   "source": []
  },
  {
   "cell_type": "code",
   "execution_count": null,
   "metadata": {},
   "outputs": [],
   "source": [
    "''' NOT VALIDE CPF '''\n",
    "df_samples[df_samples['CPF'].apply(lambda x: not validate(str(x)))]"
   ]
  },
  {
   "cell_type": "code",
   "execution_count": 54,
   "metadata": {},
   "outputs": [
    {
     "output_type": "execute_result",
     "data": {
      "text/plain": [
       "   #          CPF                                  Aluno  \\\n",
       "0  1   8208366994  ELISSIANE APARECIDA CAMPOS DOS SANTOS   \n",
       "1  2  39370361804                 HELOISA DE FRANCA DIAS   \n",
       "2  3  39370361804                 HELOISA DE FRANCA DIAS   \n",
       "\n",
       "                      E-mail               Curso Data da Prova  Nota  \\\n",
       "0  camposelissiane@gmail.com    Empreendedorismo    29/07/2020     6   \n",
       "1       negraluiza@gmail.com      Associativismo    25/10/2020     8   \n",
       "2       negraluiza@gmail.com  Custos de Produção    08/11/2020     9   \n",
       "\n",
       "   CPF_bool_mask  \n",
       "0          False  \n",
       "1           True  \n",
       "2           True  "
      ],
      "text/html": "<div>\n<style scoped>\n    .dataframe tbody tr th:only-of-type {\n        vertical-align: middle;\n    }\n\n    .dataframe tbody tr th {\n        vertical-align: top;\n    }\n\n    .dataframe thead th {\n        text-align: right;\n    }\n</style>\n<table border=\"1\" class=\"dataframe\">\n  <thead>\n    <tr style=\"text-align: right;\">\n      <th></th>\n      <th>#</th>\n      <th>CPF</th>\n      <th>Aluno</th>\n      <th>E-mail</th>\n      <th>Curso</th>\n      <th>Data da Prova</th>\n      <th>Nota</th>\n      <th>CPF_bool_mask</th>\n    </tr>\n  </thead>\n  <tbody>\n    <tr>\n      <th>0</th>\n      <td>1</td>\n      <td>8208366994</td>\n      <td>ELISSIANE APARECIDA CAMPOS DOS SANTOS</td>\n      <td>camposelissiane@gmail.com</td>\n      <td>Empreendedorismo</td>\n      <td>29/07/2020</td>\n      <td>6</td>\n      <td>False</td>\n    </tr>\n    <tr>\n      <th>1</th>\n      <td>2</td>\n      <td>39370361804</td>\n      <td>HELOISA DE FRANCA DIAS</td>\n      <td>negraluiza@gmail.com</td>\n      <td>Associativismo</td>\n      <td>25/10/2020</td>\n      <td>8</td>\n      <td>True</td>\n    </tr>\n    <tr>\n      <th>2</th>\n      <td>3</td>\n      <td>39370361804</td>\n      <td>HELOISA DE FRANCA DIAS</td>\n      <td>negraluiza@gmail.com</td>\n      <td>Custos de Produção</td>\n      <td>08/11/2020</td>\n      <td>9</td>\n      <td>True</td>\n    </tr>\n  </tbody>\n</table>\n</div>"
     },
     "metadata": {},
     "execution_count": 54
    }
   ],
   "source": [
    "df_samples"
   ]
  },
  {
   "cell_type": "code",
   "execution_count": null,
   "metadata": {},
   "outputs": [],
   "source": [
    "df[df['CPF']==true]\n"
   ]
  },
  {
   "cell_type": "code",
   "execution_count": 51,
   "metadata": {},
   "outputs": [
    {
     "output_type": "execute_result",
     "data": {
      "text/plain": [
       "   #          CPF                                  Aluno  \\\n",
       "0  1  08208366994  ELISSIANE APARECIDA CAMPOS DOS SANTOS   \n",
       "1  2  39370361804                 HELOISA DE FRANCA DIAS   \n",
       "2  3  39370361804                 HELOISA DE FRANCA DIAS   \n",
       "\n",
       "                      E-mail               Curso Data da Prova  Nota  \n",
       "0  camposelissiane@gmail.com    Empreendedorismo    29/07/2020     6  \n",
       "1       negraluiza@gmail.com      Associativismo    25/10/2020     8  \n",
       "2       negraluiza@gmail.com  Custos de Produção    08/11/2020     9  "
      ],
      "text/html": "<div>\n<style scoped>\n    .dataframe tbody tr th:only-of-type {\n        vertical-align: middle;\n    }\n\n    .dataframe tbody tr th {\n        vertical-align: top;\n    }\n\n    .dataframe thead th {\n        text-align: right;\n    }\n</style>\n<table border=\"1\" class=\"dataframe\">\n  <thead>\n    <tr style=\"text-align: right;\">\n      <th></th>\n      <th>#</th>\n      <th>CPF</th>\n      <th>Aluno</th>\n      <th>E-mail</th>\n      <th>Curso</th>\n      <th>Data da Prova</th>\n      <th>Nota</th>\n    </tr>\n  </thead>\n  <tbody>\n    <tr>\n      <th>0</th>\n      <td>1</td>\n      <td>08208366994</td>\n      <td>ELISSIANE APARECIDA CAMPOS DOS SANTOS</td>\n      <td>camposelissiane@gmail.com</td>\n      <td>Empreendedorismo</td>\n      <td>29/07/2020</td>\n      <td>6</td>\n    </tr>\n    <tr>\n      <th>1</th>\n      <td>2</td>\n      <td>39370361804</td>\n      <td>HELOISA DE FRANCA DIAS</td>\n      <td>negraluiza@gmail.com</td>\n      <td>Associativismo</td>\n      <td>25/10/2020</td>\n      <td>8</td>\n    </tr>\n    <tr>\n      <th>2</th>\n      <td>3</td>\n      <td>39370361804</td>\n      <td>HELOISA DE FRANCA DIAS</td>\n      <td>negraluiza@gmail.com</td>\n      <td>Custos de Produção</td>\n      <td>08/11/2020</td>\n      <td>9</td>\n    </tr>\n  </tbody>\n</table>\n</div>"
     },
     "metadata": {},
     "execution_count": 51
    }
   ],
   "source": [
    "df_samples"
   ]
  },
  {
   "cell_type": "code",
   "execution_count": 57,
   "metadata": {},
   "outputs": [
    {
     "output_type": "execute_result",
     "data": {
      "text/plain": [
       "<StringArray>\n",
       "['Empreendedorismo', 'Associativismo', 'Custos de Produção']\n",
       "Length: 3, dtype: string"
      ]
     },
     "metadata": {},
     "execution_count": 57
    }
   ],
   "source": [
    "df_samples.Curso.unique()"
   ]
  },
  {
   "cell_type": "code",
   "execution_count": 58,
   "metadata": {},
   "outputs": [],
   "source": [
    "tags = ['EMP', 'ASS', 'CP']"
   ]
  },
  {
   "cell_type": "code",
   "execution_count": 59,
   "metadata": {},
   "outputs": [],
   "source": [
    "cursos = dict(zip(df_samples.Curso.unique(), tags))"
   ]
  },
  {
   "cell_type": "code",
   "execution_count": 60,
   "metadata": {},
   "outputs": [
    {
     "output_type": "execute_result",
     "data": {
      "text/plain": [
       "{'Empreendedorismo': 'EMP',\n",
       " 'Associativismo': 'ASS',\n",
       " 'Custos de Produção': 'CP'}"
      ]
     },
     "metadata": {},
     "execution_count": 60
    }
   ],
   "source": [
    "cursos"
   ]
  },
  {
   "cell_type": "code",
   "execution_count": 61,
   "metadata": {},
   "outputs": [
    {
     "output_type": "execute_result",
     "data": {
      "text/plain": [
       "'EMP'"
      ]
     },
     "metadata": {},
     "execution_count": 61
    }
   ],
   "source": [
    "cursos['Empreendedorismo']"
   ]
  },
  {
   "cell_type": "code",
   "execution_count": 258,
   "metadata": {},
   "outputs": [
    {
     "output_type": "execute_result",
     "data": {
      "text/plain": [
       "     #          CPF                                  Aluno  \\\n",
       "0    1   8208366994  ELISSIANE APARECIDA CAMPOS DOS SANTOS   \n",
       "1    2  39370361804                 HELOISA DE FRANCA DIAS   \n",
       "2    3  39370361804                 HELOISA DE FRANCA DIAS   \n",
       "3    4   8208366994  ELISSIANE APARECIDA CAMPOS DOS SANTOS   \n",
       "4    5  11111111111                 HELOISA DE FRANCA DIAS   \n",
       "5    6  12322233344                 HELOISA DE FRANCA DIAS   \n",
       "6    7   8208366994  ELISSIANE APARECIDA CAMPOS DOS SANTOS   \n",
       "7    8          234                 HELOISA DE FRANCA DIAS   \n",
       "8    9  39370361804                 HELOISA DE FRANCA DIAS   \n",
       "9   10   8208366994  ELISSIANE APARECIDA CAMPOS DOS SANTOS   \n",
       "10  11  39370361804                 HELOISA DE FRANCA DIAS   \n",
       "\n",
       "                       E-mail                                     Curso  \\\n",
       "0   camposelissiane@gmail.com                          Empreendedorismo   \n",
       "1        negraluiza@gmail.com                            Associativismo   \n",
       "2        negraluiza@gmail.com                        Custos de Produção   \n",
       "3   camposelissiane@gmail.com    Analise e elaboração de casos praticos   \n",
       "4        negraluiza@gmail.com                      Agricultura familiar   \n",
       "5        negraluiza@gmail.com      Acesso a credito e linhas de fomento   \n",
       "6   camposelissiane@gmail.com                      Contabilidade basica   \n",
       "7        negraluiza@gmail.com  Economia domestica e consumo responsavel   \n",
       "8        negraluiza@gmail.com        Fundamentos de educação financeira   \n",
       "9   camposelissiane@gmail.com            Introdução a economia agricula   \n",
       "10       negraluiza@gmail.com                poupança e credito pessoal   \n",
       "\n",
       "   Data da Prova  Nota  \n",
       "0     29/07/2020     6  \n",
       "1     25/10/2020     8  \n",
       "2     08/11/2020     9  \n",
       "3     29/07/2020     6  \n",
       "4     25/10/2020     8  \n",
       "5     08/11/2020     9  \n",
       "6     29/07/2020     6  \n",
       "7     25/10/2020     8  \n",
       "8     08/11/2020     9  \n",
       "9     29/07/2020     6  \n",
       "10    25/10/2020     8  "
      ],
      "text/html": "<div>\n<style scoped>\n    .dataframe tbody tr th:only-of-type {\n        vertical-align: middle;\n    }\n\n    .dataframe tbody tr th {\n        vertical-align: top;\n    }\n\n    .dataframe thead th {\n        text-align: right;\n    }\n</style>\n<table border=\"1\" class=\"dataframe\">\n  <thead>\n    <tr style=\"text-align: right;\">\n      <th></th>\n      <th>#</th>\n      <th>CPF</th>\n      <th>Aluno</th>\n      <th>E-mail</th>\n      <th>Curso</th>\n      <th>Data da Prova</th>\n      <th>Nota</th>\n    </tr>\n  </thead>\n  <tbody>\n    <tr>\n      <th>0</th>\n      <td>1</td>\n      <td>8208366994</td>\n      <td>ELISSIANE APARECIDA CAMPOS DOS SANTOS</td>\n      <td>camposelissiane@gmail.com</td>\n      <td>Empreendedorismo</td>\n      <td>29/07/2020</td>\n      <td>6</td>\n    </tr>\n    <tr>\n      <th>1</th>\n      <td>2</td>\n      <td>39370361804</td>\n      <td>HELOISA DE FRANCA DIAS</td>\n      <td>negraluiza@gmail.com</td>\n      <td>Associativismo</td>\n      <td>25/10/2020</td>\n      <td>8</td>\n    </tr>\n    <tr>\n      <th>2</th>\n      <td>3</td>\n      <td>39370361804</td>\n      <td>HELOISA DE FRANCA DIAS</td>\n      <td>negraluiza@gmail.com</td>\n      <td>Custos de Produção</td>\n      <td>08/11/2020</td>\n      <td>9</td>\n    </tr>\n    <tr>\n      <th>3</th>\n      <td>4</td>\n      <td>8208366994</td>\n      <td>ELISSIANE APARECIDA CAMPOS DOS SANTOS</td>\n      <td>camposelissiane@gmail.com</td>\n      <td>Analise e elaboração de casos praticos</td>\n      <td>29/07/2020</td>\n      <td>6</td>\n    </tr>\n    <tr>\n      <th>4</th>\n      <td>5</td>\n      <td>11111111111</td>\n      <td>HELOISA DE FRANCA DIAS</td>\n      <td>negraluiza@gmail.com</td>\n      <td>Agricultura familiar</td>\n      <td>25/10/2020</td>\n      <td>8</td>\n    </tr>\n    <tr>\n      <th>5</th>\n      <td>6</td>\n      <td>12322233344</td>\n      <td>HELOISA DE FRANCA DIAS</td>\n      <td>negraluiza@gmail.com</td>\n      <td>Acesso a credito e linhas de fomento</td>\n      <td>08/11/2020</td>\n      <td>9</td>\n    </tr>\n    <tr>\n      <th>6</th>\n      <td>7</td>\n      <td>8208366994</td>\n      <td>ELISSIANE APARECIDA CAMPOS DOS SANTOS</td>\n      <td>camposelissiane@gmail.com</td>\n      <td>Contabilidade basica</td>\n      <td>29/07/2020</td>\n      <td>6</td>\n    </tr>\n    <tr>\n      <th>7</th>\n      <td>8</td>\n      <td>234</td>\n      <td>HELOISA DE FRANCA DIAS</td>\n      <td>negraluiza@gmail.com</td>\n      <td>Economia domestica e consumo responsavel</td>\n      <td>25/10/2020</td>\n      <td>8</td>\n    </tr>\n    <tr>\n      <th>8</th>\n      <td>9</td>\n      <td>39370361804</td>\n      <td>HELOISA DE FRANCA DIAS</td>\n      <td>negraluiza@gmail.com</td>\n      <td>Fundamentos de educação financeira</td>\n      <td>08/11/2020</td>\n      <td>9</td>\n    </tr>\n    <tr>\n      <th>9</th>\n      <td>10</td>\n      <td>8208366994</td>\n      <td>ELISSIANE APARECIDA CAMPOS DOS SANTOS</td>\n      <td>camposelissiane@gmail.com</td>\n      <td>Introdução a economia agricula</td>\n      <td>29/07/2020</td>\n      <td>6</td>\n    </tr>\n    <tr>\n      <th>10</th>\n      <td>11</td>\n      <td>39370361804</td>\n      <td>HELOISA DE FRANCA DIAS</td>\n      <td>negraluiza@gmail.com</td>\n      <td>poupança e credito pessoal</td>\n      <td>25/10/2020</td>\n      <td>8</td>\n    </tr>\n  </tbody>\n</table>\n</div>"
     },
     "metadata": {},
     "execution_count": 258
    }
   ],
   "source": [
    "''' ENTRADA '''\n",
    "\n",
    "df_samples = pd.read_excel('Alunos_concluintes_convert_w_cursos.xlsx')\n",
    "df_samples"
   ]
  },
  {
   "cell_type": "code",
   "execution_count": 262,
   "metadata": {},
   "outputs": [
    {
     "output_type": "execute_result",
     "data": {
      "text/plain": [
       "#                 int64\n",
       "CPF               int64\n",
       "Aluno            object\n",
       "E-mail           object\n",
       "Curso            object\n",
       "Data da Prova    string\n",
       "Nota              int64\n",
       "semstre          object\n",
       "dtype: object"
      ]
     },
     "metadata": {},
     "execution_count": 262
    }
   ],
   "source": [
    "df_samples.dtypes"
   ]
  },
  {
   "cell_type": "code",
   "execution_count": 260,
   "metadata": {},
   "outputs": [],
   "source": [
    "df_samples['Data da Prova'] = [datetime.strptime(x, '%d/%m/%Y') for x in df_samples['Data da Prova']]\n",
    "df_samples['semstre'] = np.where(df_samples['Data da Prova'] < datetime.strptime('01/06/2020', '%d/%m/%Y'), '01', '02')\n",
    "df_samples['Data da Prova'] = pd.Series(df_samples['Data da Prova'], dtype=\"string\")"
   ]
  },
  {
   "cell_type": "code",
   "execution_count": 261,
   "metadata": {},
   "outputs": [
    {
     "output_type": "execute_result",
     "data": {
      "text/plain": [
       "0     temp02\n",
       "1     temp02\n",
       "2     temp02\n",
       "3     temp02\n",
       "4     temp02\n",
       "5     temp02\n",
       "6     temp02\n",
       "7     temp02\n",
       "8     temp02\n",
       "9     temp02\n",
       "10    temp02\n",
       "Name: semstre, dtype: object"
      ]
     },
     "metadata": {},
     "execution_count": 261
    }
   ],
   "source": [
    "'temp'+df_samples['semstre']"
   ]
  },
  {
   "cell_type": "code",
   "execution_count": 168,
   "metadata": {},
   "outputs": [
    {
     "output_type": "execute_result",
     "data": {
      "text/plain": [
       "                   E-mail         Turma              Nome do curso  \\\n",
       "0  gustavoabreu@id.uff.br  ABCMF2020.01  ABC do Mercado Financeiro   \n",
       "1   silva989898@gmail.com  ABCMF2020.01  ABC do Mercado Financeiro   \n",
       "2     aniviivina@live.com  ABCMF2020.01  ABC do Mercado Financeiro   \n",
       "\n",
       "           CPF           Nome         Período do curso  \n",
       "0  16258077757  Gustavo Abreu  30/03/2020 a 29/04/2020  \n",
       "1  15753316751  Bruno Almeida  30/03/2020 a 29/04/2020  \n",
       "2  14200281708  Ivina Barbosa  30/03/2020 a 29/04/2020  "
      ],
      "text/html": "<div>\n<style scoped>\n    .dataframe tbody tr th:only-of-type {\n        vertical-align: middle;\n    }\n\n    .dataframe tbody tr th {\n        vertical-align: top;\n    }\n\n    .dataframe thead th {\n        text-align: right;\n    }\n</style>\n<table border=\"1\" class=\"dataframe\">\n  <thead>\n    <tr style=\"text-align: right;\">\n      <th></th>\n      <th>E-mail</th>\n      <th>Turma</th>\n      <th>Nome do curso</th>\n      <th>CPF</th>\n      <th>Nome</th>\n      <th>Período do curso</th>\n    </tr>\n  </thead>\n  <tbody>\n    <tr>\n      <th>0</th>\n      <td>gustavoabreu@id.uff.br</td>\n      <td>ABCMF2020.01</td>\n      <td>ABC do Mercado Financeiro</td>\n      <td>16258077757</td>\n      <td>Gustavo Abreu</td>\n      <td>30/03/2020 a 29/04/2020</td>\n    </tr>\n    <tr>\n      <th>1</th>\n      <td>silva989898@gmail.com</td>\n      <td>ABCMF2020.01</td>\n      <td>ABC do Mercado Financeiro</td>\n      <td>15753316751</td>\n      <td>Bruno Almeida</td>\n      <td>30/03/2020 a 29/04/2020</td>\n    </tr>\n    <tr>\n      <th>2</th>\n      <td>aniviivina@live.com</td>\n      <td>ABCMF2020.01</td>\n      <td>ABC do Mercado Financeiro</td>\n      <td>14200281708</td>\n      <td>Ivina Barbosa</td>\n      <td>30/03/2020 a 29/04/2020</td>\n    </tr>\n  </tbody>\n</table>\n</div>"
     },
     "metadata": {},
     "execution_count": 168
    }
   ],
   "source": [
    "''' SAIDA '''\n",
    "\n",
    "df_samples_2= pd.read_csv('Certificados NEES - 100 DIAS 100 CUSTOS (1).csv', delimiter=';')\n",
    "df_samples_2.head(3)"
   ]
  },
  {
   "cell_type": "code",
   "execution_count": 129,
   "metadata": {},
   "outputs": [],
   "source": [
    "from datetime import datetime\n",
    "from dateutil.relativedelta import *"
   ]
  },
  {
   "cell_type": "code",
   "execution_count": 167,
   "metadata": {},
   "outputs": [
    {
     "output_type": "execute_result",
     "data": {
      "text/plain": [
       "['Acesso a credito e linhas de fomento',\n",
       " 'Agricultura familiar',\n",
       " 'Analise e elaboração de casos praticos',\n",
       " 'Associativismo',\n",
       " 'Contabilidade basica',\n",
       " 'Custos de Produção',\n",
       " 'Economia domestica e consumo responsavel',\n",
       " 'Empreendedorismo',\n",
       " 'Fundamentos de educação financeira',\n",
       " 'Introdução a economia agricula',\n",
       " 'poupança e credito pessoal']"
      ]
     },
     "metadata": {},
     "execution_count": 167
    }
   ],
   "source": [
    "sorted(df_samples['Curso'].values)"
   ]
  },
  {
   "cell_type": "code",
   "execution_count": 277,
   "metadata": {},
   "outputs": [],
   "source": [
    "\n",
    "def build_df(df_path):\n",
    "    df_in = pd.read_excel(df_path)\n",
    "\n",
    "    \n",
    "    cursos = sorted(df_in.Curso.unique())\n",
    "    tags = ['ACLF','AF', 'AECP', 'ASS', 'CB', 'CP', 'EDCR', 'EMP', 'FEF', 'IEA', 'PCP']\n",
    "    cursos_dict = dict(zip(cursos, tags))\n",
    "\n",
    "\n",
    "\n",
    "    df_out = pd.DataFrame()\n",
    "    df_out['E-mail'] = pd.Series(df_in['E-mail'], dtype=\"string\")\n",
    "    df_out['Turma'] = [cursos_dict[x] for x in df_in['Curso'].values]\n",
    "    df_out['Nome do curso'] = df_in['Curso']\n",
    "    \n",
    "    ''' AUTOCOMPLETE CPF  AND FORMAT'''\n",
    "    df_out['CPF'] = [autocomplete(str(x), 11, '0', 'left') for x in df_in['CPF'].values]\n",
    "    df_out['CPF'] = pd.Series(df_out['CPF'], dtype=\"string\")\n",
    "\n",
    "    df_out['Nome'] = pd.Series(df_in['Aluno'], dtype=\"string\")\n",
    "    df_out['Nome'] = [x.title() for x in df_out['Nome'].values]\n",
    "    \n",
    "    df_out['periodo'] = [str((datetime.strptime(x, '%d/%m/%Y')).date())+' a ' + str((datetime.strptime(x, '%d/%m/%Y')+relativedelta(months=+1)).date()) for x in df_in['Data da Prova']]\n",
    "\n",
    "    df_in['Data da Prova'] = [datetime.strptime(x, '%d/%m/%Y') for x in df_in['Data da Prova']]\n",
    "    df_in['semestre'] = np.where(df_in['Data da Prova'] < datetime.strptime('01/06/2020', '%d/%m/%Y'), '01', '02')\n",
    "    df_in['Data da Prova'] = pd.Series(df_in['Data da Prova'], dtype=\"string\")\n",
    "    df_in['Ano'] = [x.split('-')[0] for x in df_in['Data da Prova'].values]\n",
    "    df_out['Turma'] = df_out['Turma']+df_in['Ano']+'.'+df_in['semestre']\n",
    "\n",
    "    df_out['E-mail'] = pd.Series(df_out['E-mail'], dtype=\"string\")\n",
    "    df_out['Turma'] = pd.Series(df_out['Turma'], dtype=\"string\")\n",
    "    df_out['Nome do curso'] = pd.Series(df_out['Nome do curso'], dtype=\"string\")\n",
    "    df_out['CPF'] = pd.Series(df_out['CPF'], dtype=\"string\")\n",
    "    df_out['Nome'] = pd.Series(df_out['Nome'], dtype=\"string\")\n",
    "    df_out['periodo'] = pd.Series(df_out['periodo'], dtype=\"string\")\n",
    "    ''' VALIDATE CPF '''\n",
    "    df_out_final = df_out[df_out['CPF'].apply(lambda x: validate(str(x)))]\n",
    "\n",
    "    ''' NOT VALIDE CPFs '''\n",
    "    df_out_cpf_rejected = df_out[df_out['CPF'].apply(lambda x: not validate(str(x)))]\n",
    "    \n",
    "    return df_out_final, df_out_cpf_rejected"
   ]
  },
  {
   "cell_type": "code",
   "execution_count": 278,
   "metadata": {},
   "outputs": [],
   "source": [
    "df, df_rejected = build_df('Alunos_concluintes_convert_w_cursos.xlsx')"
   ]
  },
  {
   "cell_type": "code",
   "execution_count": 279,
   "metadata": {},
   "outputs": [
    {
     "output_type": "execute_result",
     "data": {
      "text/plain": [
       "                       E-mail        Turma  \\\n",
       "0   camposelissiane@gmail.com   EMP2020.02   \n",
       "1        negraluiza@gmail.com   ASS2020.02   \n",
       "2        negraluiza@gmail.com    CP2020.02   \n",
       "3   camposelissiane@gmail.com  AECP2020.02   \n",
       "6   camposelissiane@gmail.com    CB2020.02   \n",
       "8        negraluiza@gmail.com   FEF2020.02   \n",
       "9   camposelissiane@gmail.com   IEA2020.02   \n",
       "10       negraluiza@gmail.com   PCP2020.02   \n",
       "\n",
       "                             Nome do curso          CPF  \\\n",
       "0                         Empreendedorismo  08208366994   \n",
       "1                           Associativismo  39370361804   \n",
       "2                       Custos de Produção  39370361804   \n",
       "3   Analise e elaboração de casos praticos  08208366994   \n",
       "6                     Contabilidade basica  08208366994   \n",
       "8       Fundamentos de educação financeira  39370361804   \n",
       "9           Introdução a economia agricula  08208366994   \n",
       "10              poupança e credito pessoal  39370361804   \n",
       "\n",
       "                                     Nome                  periodo  \n",
       "0   Elissiane Aparecida Campos Dos Santos  2020-07-29 a 2020-08-29  \n",
       "1                  Heloisa De Franca Dias  2020-10-25 a 2020-11-25  \n",
       "2                  Heloisa De Franca Dias  2020-11-08 a 2020-12-08  \n",
       "3   Elissiane Aparecida Campos Dos Santos  2020-07-29 a 2020-08-29  \n",
       "6   Elissiane Aparecida Campos Dos Santos  2020-07-29 a 2020-08-29  \n",
       "8                  Heloisa De Franca Dias  2020-11-08 a 2020-12-08  \n",
       "9   Elissiane Aparecida Campos Dos Santos  2020-07-29 a 2020-08-29  \n",
       "10                 Heloisa De Franca Dias  2020-10-25 a 2020-11-25  "
      ],
      "text/html": "<div>\n<style scoped>\n    .dataframe tbody tr th:only-of-type {\n        vertical-align: middle;\n    }\n\n    .dataframe tbody tr th {\n        vertical-align: top;\n    }\n\n    .dataframe thead th {\n        text-align: right;\n    }\n</style>\n<table border=\"1\" class=\"dataframe\">\n  <thead>\n    <tr style=\"text-align: right;\">\n      <th></th>\n      <th>E-mail</th>\n      <th>Turma</th>\n      <th>Nome do curso</th>\n      <th>CPF</th>\n      <th>Nome</th>\n      <th>periodo</th>\n    </tr>\n  </thead>\n  <tbody>\n    <tr>\n      <th>0</th>\n      <td>camposelissiane@gmail.com</td>\n      <td>EMP2020.02</td>\n      <td>Empreendedorismo</td>\n      <td>08208366994</td>\n      <td>Elissiane Aparecida Campos Dos Santos</td>\n      <td>2020-07-29 a 2020-08-29</td>\n    </tr>\n    <tr>\n      <th>1</th>\n      <td>negraluiza@gmail.com</td>\n      <td>ASS2020.02</td>\n      <td>Associativismo</td>\n      <td>39370361804</td>\n      <td>Heloisa De Franca Dias</td>\n      <td>2020-10-25 a 2020-11-25</td>\n    </tr>\n    <tr>\n      <th>2</th>\n      <td>negraluiza@gmail.com</td>\n      <td>CP2020.02</td>\n      <td>Custos de Produção</td>\n      <td>39370361804</td>\n      <td>Heloisa De Franca Dias</td>\n      <td>2020-11-08 a 2020-12-08</td>\n    </tr>\n    <tr>\n      <th>3</th>\n      <td>camposelissiane@gmail.com</td>\n      <td>AECP2020.02</td>\n      <td>Analise e elaboração de casos praticos</td>\n      <td>08208366994</td>\n      <td>Elissiane Aparecida Campos Dos Santos</td>\n      <td>2020-07-29 a 2020-08-29</td>\n    </tr>\n    <tr>\n      <th>6</th>\n      <td>camposelissiane@gmail.com</td>\n      <td>CB2020.02</td>\n      <td>Contabilidade basica</td>\n      <td>08208366994</td>\n      <td>Elissiane Aparecida Campos Dos Santos</td>\n      <td>2020-07-29 a 2020-08-29</td>\n    </tr>\n    <tr>\n      <th>8</th>\n      <td>negraluiza@gmail.com</td>\n      <td>FEF2020.02</td>\n      <td>Fundamentos de educação financeira</td>\n      <td>39370361804</td>\n      <td>Heloisa De Franca Dias</td>\n      <td>2020-11-08 a 2020-12-08</td>\n    </tr>\n    <tr>\n      <th>9</th>\n      <td>camposelissiane@gmail.com</td>\n      <td>IEA2020.02</td>\n      <td>Introdução a economia agricula</td>\n      <td>08208366994</td>\n      <td>Elissiane Aparecida Campos Dos Santos</td>\n      <td>2020-07-29 a 2020-08-29</td>\n    </tr>\n    <tr>\n      <th>10</th>\n      <td>negraluiza@gmail.com</td>\n      <td>PCP2020.02</td>\n      <td>poupança e credito pessoal</td>\n      <td>39370361804</td>\n      <td>Heloisa De Franca Dias</td>\n      <td>2020-10-25 a 2020-11-25</td>\n    </tr>\n  </tbody>\n</table>\n</div>"
     },
     "metadata": {},
     "execution_count": 279
    }
   ],
   "source": [
    "df"
   ]
  },
  {
   "cell_type": "code",
   "execution_count": 280,
   "metadata": {},
   "outputs": [
    {
     "output_type": "execute_result",
     "data": {
      "text/plain": [
       "                 E-mail        Turma  \\\n",
       "4  negraluiza@gmail.com    AF2020.02   \n",
       "5  negraluiza@gmail.com  ACLF2020.02   \n",
       "7  negraluiza@gmail.com  EDCR2020.02   \n",
       "\n",
       "                              Nome do curso          CPF  \\\n",
       "4                      Agricultura familiar  11111111111   \n",
       "5      Acesso a credito e linhas de fomento  12322233344   \n",
       "7  Economia domestica e consumo responsavel  00000000234   \n",
       "\n",
       "                     Nome                  periodo  \n",
       "4  Heloisa De Franca Dias  2020-10-25 a 2020-11-25  \n",
       "5  Heloisa De Franca Dias  2020-11-08 a 2020-12-08  \n",
       "7  Heloisa De Franca Dias  2020-10-25 a 2020-11-25  "
      ],
      "text/html": "<div>\n<style scoped>\n    .dataframe tbody tr th:only-of-type {\n        vertical-align: middle;\n    }\n\n    .dataframe tbody tr th {\n        vertical-align: top;\n    }\n\n    .dataframe thead th {\n        text-align: right;\n    }\n</style>\n<table border=\"1\" class=\"dataframe\">\n  <thead>\n    <tr style=\"text-align: right;\">\n      <th></th>\n      <th>E-mail</th>\n      <th>Turma</th>\n      <th>Nome do curso</th>\n      <th>CPF</th>\n      <th>Nome</th>\n      <th>periodo</th>\n    </tr>\n  </thead>\n  <tbody>\n    <tr>\n      <th>4</th>\n      <td>negraluiza@gmail.com</td>\n      <td>AF2020.02</td>\n      <td>Agricultura familiar</td>\n      <td>11111111111</td>\n      <td>Heloisa De Franca Dias</td>\n      <td>2020-10-25 a 2020-11-25</td>\n    </tr>\n    <tr>\n      <th>5</th>\n      <td>negraluiza@gmail.com</td>\n      <td>ACLF2020.02</td>\n      <td>Acesso a credito e linhas de fomento</td>\n      <td>12322233344</td>\n      <td>Heloisa De Franca Dias</td>\n      <td>2020-11-08 a 2020-12-08</td>\n    </tr>\n    <tr>\n      <th>7</th>\n      <td>negraluiza@gmail.com</td>\n      <td>EDCR2020.02</td>\n      <td>Economia domestica e consumo responsavel</td>\n      <td>00000000234</td>\n      <td>Heloisa De Franca Dias</td>\n      <td>2020-10-25 a 2020-11-25</td>\n    </tr>\n  </tbody>\n</table>\n</div>"
     },
     "metadata": {},
     "execution_count": 280
    }
   ],
   "source": [
    "df_rejected"
   ]
  },
  {
   "cell_type": "code",
   "execution_count": 213,
   "metadata": {},
   "outputs": [
    {
     "output_type": "execute_result",
     "data": {
      "text/plain": [
       "E-mail           string\n",
       "Turma            string\n",
       "Nome do curso    string\n",
       "CPF              string\n",
       "Nome             string\n",
       "periodo          string\n",
       "dtype: object"
      ]
     },
     "metadata": {},
     "execution_count": 213
    }
   ],
   "source": [
    "df.dtypes"
   ]
  },
  {
   "cell_type": "code",
   "execution_count": 81,
   "metadata": {},
   "outputs": [
    {
     "output_type": "execute_result",
     "data": {
      "text/plain": [
       "                   E-mail         Turma              Nome do curso  \\\n",
       "0  gustavoabreu@id.uff.br  ABCMF2020.01  ABC do Mercado Financeiro   \n",
       "1   silva989898@gmail.com  ABCMF2020.01  ABC do Mercado Financeiro   \n",
       "2     aniviivina@live.com  ABCMF2020.01  ABC do Mercado Financeiro   \n",
       "\n",
       "           CPF           Nome         Período do curso  \n",
       "0  16258077757  Gustavo Abreu  30/03/2020 a 29/04/2020  \n",
       "1  15753316751  Bruno Almeida  30/03/2020 a 29/04/2020  \n",
       "2  14200281708  Ivina Barbosa  30/03/2020 a 29/04/2020  "
      ],
      "text/html": "<div>\n<style scoped>\n    .dataframe tbody tr th:only-of-type {\n        vertical-align: middle;\n    }\n\n    .dataframe tbody tr th {\n        vertical-align: top;\n    }\n\n    .dataframe thead th {\n        text-align: right;\n    }\n</style>\n<table border=\"1\" class=\"dataframe\">\n  <thead>\n    <tr style=\"text-align: right;\">\n      <th></th>\n      <th>E-mail</th>\n      <th>Turma</th>\n      <th>Nome do curso</th>\n      <th>CPF</th>\n      <th>Nome</th>\n      <th>Período do curso</th>\n    </tr>\n  </thead>\n  <tbody>\n    <tr>\n      <th>0</th>\n      <td>gustavoabreu@id.uff.br</td>\n      <td>ABCMF2020.01</td>\n      <td>ABC do Mercado Financeiro</td>\n      <td>16258077757</td>\n      <td>Gustavo Abreu</td>\n      <td>30/03/2020 a 29/04/2020</td>\n    </tr>\n    <tr>\n      <th>1</th>\n      <td>silva989898@gmail.com</td>\n      <td>ABCMF2020.01</td>\n      <td>ABC do Mercado Financeiro</td>\n      <td>15753316751</td>\n      <td>Bruno Almeida</td>\n      <td>30/03/2020 a 29/04/2020</td>\n    </tr>\n    <tr>\n      <th>2</th>\n      <td>aniviivina@live.com</td>\n      <td>ABCMF2020.01</td>\n      <td>ABC do Mercado Financeiro</td>\n      <td>14200281708</td>\n      <td>Ivina Barbosa</td>\n      <td>30/03/2020 a 29/04/2020</td>\n    </tr>\n  </tbody>\n</table>\n</div>"
     },
     "metadata": {},
     "execution_count": 81
    }
   ],
   "source": [
    "''' SAIDA '''\n",
    "\n",
    "df_samples_2= pd.read_csv('Certificados NEES - 100 DIAS 100 CUSTOS (1).csv', delimiter=';')\n",
    "df_samples_2.head(3)"
   ]
  },
  {
   "cell_type": "code",
   "execution_count": null,
   "metadata": {},
   "outputs": [],
   "source": []
  }
 ]
}